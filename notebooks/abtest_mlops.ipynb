{
 "cells": [
  {
   "cell_type": "code",
   "execution_count": 1,
   "metadata": {},
   "outputs": [],
   "source": [
    "# importing libraries\n",
    "import pandas as pd\n",
    "import numpy as np\n",
    "from sklearn.metrics import mean_squared_error,mean_absolute_error, r2_score\n",
    "from sklearn.model_selection import train_test_split\n",
    "from sklearn.linear_model import ElasticNet\n",
    "from urllib.parse import urlparse\n",
    "import mlflow\n",
    "import mlflow.sklearn"
   ]
  },
  {
   "cell_type": "code",
   "execution_count": null,
   "metadata": {},
   "outputs": [],
   "source": [
    "# Get url from Dvc\n",
    "import dvc.api\n",
    "path = 'data/AdSmartABdata.csv'\n",
    "repo = '/home/neba/Desktop/abtest_mlops'\n",
    "version = 'v1'\n",
    "data_url = dvc.api.get_url(\n",
    "    path= path,\n",
    "    repo= repo,\n",
    "    rev= version\n",
    ")"
   ]
  }
 ],
 "metadata": {
  "interpreter": {
   "hash": "5fc8211401eca2c7291f2261a1eaf02906ece3d42233cac2b39600ae06d0a5ce"
  },
  "kernelspec": {
   "display_name": "Python 3.9.5 64-bit ('abtest': conda)",
   "name": "python3"
  },
  "language_info": {
   "codemirror_mode": {
    "name": "ipython",
    "version": 3
   },
   "file_extension": ".py",
   "mimetype": "text/x-python",
   "name": "python",
   "nbconvert_exporter": "python",
   "pygments_lexer": "ipython3",
   "version": "3.9.5"
  },
  "orig_nbformat": 4
 },
 "nbformat": 4,
 "nbformat_minor": 2
}