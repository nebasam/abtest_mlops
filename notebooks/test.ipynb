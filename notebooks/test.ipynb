{
 "cells": [
  {
   "cell_type": "code",
   "execution_count": 5,
   "metadata": {},
   "outputs": [],
   "source": [
    "# importing libraries\n",
    "import pandas as pd\n",
    "import numpy as np\n",
    "from sklearn.metrics import mean_squared_error,mean_absolute_error, r2_score\n",
    "from sklearn.model_selection import train_test_split\n",
    "from sklearn.linear_model import ElasticNet\n",
    "from urllib.parse import urlparse\n",
    "import mlflow\n",
    "import mlflow.sklearn\n",
    "# Get url from Dvc\n",
    "import dvc.api\n",
    "path = 'data/AdSmartABdatanew.csv'\n",
    "repo = '/home/neba/Desktop/abtest_mlops'\n",
    "version = 'version_one_browser'\n",
    "data_url = dvc.api.get_url(\n",
    "    path= path,\n",
    "    repo= repo,\n",
    "    rev= version\n",
    ")\n",
    "data = pd.read_csv(data_url,sep=',')\n",
    "#log data params\n",
    "mlflow.log_param('data_url',data_url)\n",
    "mlflow.log_param('data_version',version)\n",
    "mlflow.log_param('input_cols',data.shape[1])\n",
    "mlflow.log_param('input_rows',data.shape[0])\n",
    "# droping the users that did not answer\n",
    "def drop_no_responds(df):\n",
    "    data = df.query(\"not (yes == 0 & no == 0)\")\n",
    "    return data\n",
    "cleaneddata = drop_no_responds(data)\n",
    "# creating new column called aware\n",
    "data['aware'] = data['yes'].map(lambda x: x==1)\n",
    "# dropping yes and no column\n",
    "data = data.drop(columns = ['yes', 'no', 'auction_id'], axis=1)\n",
    "data.head()\n",
    "# splitting data to train and test \n",
    "y = data['aware']\n",
    "data = data.drop('aware', inplace=False, axis=1)\n",
    "X = data\n",
    "test_size = 0.1\n",
    "X_train, X_test, y_train, y_test = train_test_split(X, y, test_size=test_size, random_state=42)\n",
    "y_train = pd.DataFrame(y_train)\n",
    "\n",
    "# Log artifacts: columns used for modeling\n",
    "cols_x = pd.DataFrame(list(X_train.columns))\n",
    "cols_x.to_csv('features.csv', header= False, index=False)\n",
    "mlflow.log_artifact('features.csv')\n",
    "\n",
    "cols_y = pd.DataFrame(list(y_train.columns))\n",
    "cols_y.to_csv('targets.csv', header= False, index=False)\n",
    "mlflow.log_artifact('targets.csv')"
   ]
  }
 ],
 "metadata": {
  "interpreter": {
   "hash": "5fc8211401eca2c7291f2261a1eaf02906ece3d42233cac2b39600ae06d0a5ce"
  },
  "kernelspec": {
   "display_name": "Python 3.9.5 64-bit ('abtest': conda)",
   "name": "python3"
  },
  "language_info": {
   "codemirror_mode": {
    "name": "ipython",
    "version": 3
   },
   "file_extension": ".py",
   "mimetype": "text/x-python",
   "name": "python",
   "nbconvert_exporter": "python",
   "pygments_lexer": "ipython3",
   "version": "3.9.5"
  },
  "orig_nbformat": 4
 },
 "nbformat": 4,
 "nbformat_minor": 2
}